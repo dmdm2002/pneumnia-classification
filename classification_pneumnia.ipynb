{
 "cells": [
  {
   "cell_type": "code",
   "execution_count": 1,
   "metadata": {},
   "outputs": [],
   "source": [
    "import warnings\n",
    "warnings.filterwarnings('ignore') \n",
    "\n",
    "try:\n",
    "    %tensorflow_version 2.x\n",
    "except Exception:\n",
    "    pass\n",
    "\n",
    "import tensorflow as tf\n",
    "import matplotlib.pyplot as plt\n",
    "import numpy as np\n",
    "from tensorflow.keras.preprocessing.image import ImageDataGenerator\n",
    "import os"
   ]
  },
  {
   "cell_type": "code",
   "execution_count": 2,
   "metadata": {},
   "outputs": [],
   "source": [
    "label = ['PNEUMONIA', 'NORMAL']\n",
    "img_size = 150\n",
    "\n",
    "train_image_path = 'D:/SideProject/kaggle/dataset/chest X-Ray/chest_xray/train'\n",
    "train_NORMAL_path = os.path.join(train_image_path, 'NORMAL')\n",
    "train_PNEUMONIA_path = os.path.join(train_image_path, 'PNEUMONIA')\n",
    "\n",
    "test_image_path = 'D:/SideProject/kaggle/dataset/chest X-Ray/chest_xray/test'\n",
    "test_NORMAL_path = os.path.join(test_image_path, 'NORMAL')\n",
    "test_PNEUMONIA_path = os.path.join(test_image_path, 'PNEUMONIA')\n",
    "\n",
    "val_image_path = 'D:/SideProject/kaggle/dataset/chest X-Ray/chest_xray/val'\n",
    "val_NORMAL_path = os.path.join(val_image_path, 'NORMAL')\n",
    "val_PNEUMONIA_path = os.path.join(val_image_path, 'PNEUMONIA')"
   ]
  },
  {
   "cell_type": "code",
   "execution_count": 3,
   "metadata": {},
   "outputs": [
    {
     "name": "stdout",
     "output_type": "stream",
     "text": [
      "5216\n",
      "624\n",
      "16\n"
     ]
    }
   ],
   "source": [
    "train_file_list_NORMAL = os.listdir(train_NORMAL_path)\n",
    "train_file_list_PNEUMONIA = os.listdir(train_PNEUMONIA_path)\n",
    "print(len(train_file_list_NORMAL) + len(train_file_list_PNEUMONIA))\n",
    "\n",
    "test_file_list_NORMAL = os.listdir(test_NORMAL_path)\n",
    "test_file_list_PNEUMONIA = os.listdir(test_PNEUMONIA_path)\n",
    "print(len(test_file_list_NORMAL) + len(test_file_list_PNEUMONIA))\n",
    "\n",
    "val_file_list_NORMAL = os.listdir(val_NORMAL_path)\n",
    "val_file_list_PNEUMONIA = os.listdir(val_PNEUMONIA_path)\n",
    "print(len(val_file_list_NORMAL) + len(val_file_list_PNEUMONIA))"
   ]
  },
  {
   "cell_type": "code",
   "execution_count": 4,
   "metadata": {},
   "outputs": [
    {
     "name": "stdout",
     "output_type": "stream",
     "text": [
      "Found 5216 images belonging to 2 classes.\n",
      "Found 624 images belonging to 2 classes.\n",
      "Found 16 images belonging to 2 classes.\n"
     ]
    }
   ],
   "source": [
    "traincnt = 5126\n",
    "testcnt = 624\n",
    "batchsz = 20\n",
    "\n",
    "train_datagen = ImageDataGenerator(rescale=1./255, zoom_range=0.2, shear_range=0.2, horizontal_flip=True)\n",
    "\n",
    "train_generator = train_datagen.flow_from_directory(train_image_path, target_size=(64, 64), batch_size=batchsz)\n",
    "\n",
    "test_datagen = ImageDataGenerator(rescale=1./255)\n",
    "test_generator = test_datagen.flow_from_directory(test_image_path, target_size=(64, 64), batch_size=batchsz)\n",
    "\n",
    "val_datagen = ImageDataGenerator(rescale=1./255)\n",
    "val_generator = val_datagen.flow_from_directory(val_image_path, target_size=(64, 64), batch_size=batchsz)"
   ]
  },
  {
   "cell_type": "code",
   "execution_count": 5,
   "metadata": {},
   "outputs": [
    {
     "name": "stdout",
     "output_type": "stream",
     "text": [
      "[INFO] compiling model...\n",
      "Model: \"sequential\"\n",
      "_________________________________________________________________\n",
      "Layer (type)                 Output Shape              Param #   \n",
      "=================================================================\n",
      "conv2d (Conv2D)              (None, 64, 64, 32)        896       \n",
      "_________________________________________________________________\n",
      "max_pooling2d (MaxPooling2D) (None, 32, 32, 32)        0         \n",
      "_________________________________________________________________\n",
      "dropout (Dropout)            (None, 32, 32, 32)        0         \n",
      "_________________________________________________________________\n",
      "conv2d_1 (Conv2D)            (None, 32, 32, 64)        18496     \n",
      "_________________________________________________________________\n",
      "max_pooling2d_1 (MaxPooling2 (None, 16, 16, 64)        0         \n",
      "_________________________________________________________________\n",
      "dropout_1 (Dropout)          (None, 16, 16, 64)        0         \n",
      "_________________________________________________________________\n",
      "conv2d_2 (Conv2D)            (None, 16, 16, 128)       73856     \n",
      "_________________________________________________________________\n",
      "flatten (Flatten)            (None, 32768)             0         \n",
      "_________________________________________________________________\n",
      "dense (Dense)                (None, 128)               4194432   \n",
      "_________________________________________________________________\n",
      "dropout_2 (Dropout)          (None, 128)               0         \n",
      "_________________________________________________________________\n",
      "dense_1 (Dense)              (None, 64)                8256      \n",
      "_________________________________________________________________\n",
      "dropout_3 (Dropout)          (None, 64)                0         \n",
      "_________________________________________________________________\n",
      "dense_2 (Dense)              (None, 2)                 130       \n",
      "=================================================================\n",
      "Total params: 4,296,066\n",
      "Trainable params: 4,296,066\n",
      "Non-trainable params: 0\n",
      "_________________________________________________________________\n",
      "Epoch 1/50\n",
      "256/256 [==============================] - 136s 531ms/step - loss: 0.6186 - accuracy: 0.7311 - val_loss: 0.6739 - val_accuracy: 0.7500\n",
      "Epoch 2/50\n",
      "256/256 [==============================] - 51s 201ms/step - loss: 0.3643 - accuracy: 0.8353 - val_loss: 0.6280 - val_accuracy: 0.8125\n",
      "Epoch 3/50\n",
      "256/256 [==============================] - 51s 198ms/step - loss: 0.2735 - accuracy: 0.8820 - val_loss: 0.4907 - val_accuracy: 0.7500\n",
      "Epoch 4/50\n",
      "256/256 [==============================] - 51s 197ms/step - loss: 0.2309 - accuracy: 0.9106 - val_loss: 0.4700 - val_accuracy: 0.8125\n",
      "Epoch 5/50\n",
      "256/256 [==============================] - 50s 197ms/step - loss: 0.2152 - accuracy: 0.9138 - val_loss: 0.6732 - val_accuracy: 0.6875\n",
      "Epoch 6/50\n",
      "256/256 [==============================] - 50s 197ms/step - loss: 0.1939 - accuracy: 0.9282 - val_loss: 0.3768 - val_accuracy: 0.8125\n",
      "Epoch 7/50\n",
      "256/256 [==============================] - 50s 196ms/step - loss: 0.1910 - accuracy: 0.9258 - val_loss: 0.3671 - val_accuracy: 0.7500\n",
      "Epoch 8/50\n",
      "256/256 [==============================] - 50s 196ms/step - loss: 0.1976 - accuracy: 0.9260 - val_loss: 0.3380 - val_accuracy: 0.7500\n",
      "Epoch 9/50\n",
      "256/256 [==============================] - 51s 197ms/step - loss: 0.1714 - accuracy: 0.9363 - val_loss: 0.3109 - val_accuracy: 0.8125\n",
      "Epoch 10/50\n",
      "256/256 [==============================] - 50s 197ms/step - loss: 0.1623 - accuracy: 0.9384 - val_loss: 0.7731 - val_accuracy: 0.6250\n",
      "Epoch 11/50\n",
      "256/256 [==============================] - 50s 195ms/step - loss: 0.1595 - accuracy: 0.9385 - val_loss: 0.4504 - val_accuracy: 0.6875\n",
      "Epoch 12/50\n",
      "256/256 [==============================] - 50s 196ms/step - loss: 0.1825 - accuracy: 0.9349 - val_loss: 0.4671 - val_accuracy: 0.6875\n",
      "Epoch 13/50\n",
      "256/256 [==============================] - 50s 197ms/step - loss: 0.1544 - accuracy: 0.9496 - val_loss: 0.2967 - val_accuracy: 0.7500\n",
      "Epoch 14/50\n",
      "256/256 [==============================] - 51s 197ms/step - loss: 0.1612 - accuracy: 0.9389 - val_loss: 0.4648 - val_accuracy: 0.6875\n",
      "Epoch 15/50\n",
      "256/256 [==============================] - 50s 197ms/step - loss: 0.1509 - accuracy: 0.9435 - val_loss: 0.2691 - val_accuracy: 0.8125\n",
      "Epoch 16/50\n",
      "256/256 [==============================] - 50s 197ms/step - loss: 0.1322 - accuracy: 0.9568 - val_loss: 0.3961 - val_accuracy: 0.7500\n",
      "Epoch 17/50\n",
      "256/256 [==============================] - 50s 197ms/step - loss: 0.1362 - accuracy: 0.9516 - val_loss: 0.5906 - val_accuracy: 0.6875\n",
      "Epoch 18/50\n",
      "256/256 [==============================] - 50s 197ms/step - loss: 0.1524 - accuracy: 0.9520 - val_loss: 0.2860 - val_accuracy: 0.8125\n",
      "Epoch 19/50\n",
      "256/256 [==============================] - 50s 196ms/step - loss: 0.1401 - accuracy: 0.9509 - val_loss: 0.4026 - val_accuracy: 0.8125\n",
      "Epoch 20/50\n",
      "256/256 [==============================] - 50s 197ms/step - loss: 0.1267 - accuracy: 0.9554 - val_loss: 0.3814 - val_accuracy: 0.8125\n",
      "Epoch 21/50\n",
      "256/256 [==============================] - 50s 196ms/step - loss: 0.1316 - accuracy: 0.9529 - val_loss: 0.4333 - val_accuracy: 0.8125\n",
      "Epoch 22/50\n",
      "256/256 [==============================] - 50s 196ms/step - loss: 0.1534 - accuracy: 0.9472 - val_loss: 0.2197 - val_accuracy: 0.8750\n",
      "Epoch 23/50\n",
      "256/256 [==============================] - 50s 197ms/step - loss: 0.1212 - accuracy: 0.9542 - val_loss: 0.2350 - val_accuracy: 1.0000\n",
      "Epoch 24/50\n",
      "256/256 [==============================] - 50s 197ms/step - loss: 0.1178 - accuracy: 0.9538 - val_loss: 0.2953 - val_accuracy: 0.9375\n",
      "Epoch 25/50\n",
      "256/256 [==============================] - 50s 197ms/step - loss: 0.1252 - accuracy: 0.9518 - val_loss: 0.2201 - val_accuracy: 0.9375\n",
      "Epoch 26/50\n",
      "256/256 [==============================] - 50s 196ms/step - loss: 0.1344 - accuracy: 0.9489 - val_loss: 0.4622 - val_accuracy: 0.8750\n",
      "Epoch 27/50\n",
      "256/256 [==============================] - 50s 196ms/step - loss: 0.1146 - accuracy: 0.9543 - val_loss: 0.9990 - val_accuracy: 0.6250\n",
      "Epoch 28/50\n",
      "256/256 [==============================] - 51s 197ms/step - loss: 0.1263 - accuracy: 0.9526 - val_loss: 0.2255 - val_accuracy: 0.8750\n",
      "Epoch 29/50\n",
      "256/256 [==============================] - 50s 196ms/step - loss: 0.1138 - accuracy: 0.9608 - val_loss: 0.2290 - val_accuracy: 0.9375\n",
      "Epoch 30/50\n",
      "256/256 [==============================] - 50s 197ms/step - loss: 0.1121 - accuracy: 0.9632 - val_loss: 0.1990 - val_accuracy: 0.9375\n",
      "Epoch 31/50\n",
      "256/256 [==============================] - 50s 197ms/step - loss: 0.1262 - accuracy: 0.9555 - val_loss: 0.7064 - val_accuracy: 0.7500\n",
      "Epoch 32/50\n",
      "256/256 [==============================] - 51s 197ms/step - loss: 0.1093 - accuracy: 0.9587 - val_loss: 0.2981 - val_accuracy: 0.8125\n",
      "Epoch 33/50\n",
      "256/256 [==============================] - 50s 197ms/step - loss: 0.1325 - accuracy: 0.9522 - val_loss: 0.2431 - val_accuracy: 0.9375\n",
      "Epoch 34/50\n",
      "256/256 [==============================] - 50s 196ms/step - loss: 0.1081 - accuracy: 0.9579 - val_loss: 0.2935 - val_accuracy: 0.8750\n",
      "Epoch 35/50\n",
      "256/256 [==============================] - 50s 196ms/step - loss: 0.1038 - accuracy: 0.9587 - val_loss: 0.5138 - val_accuracy: 0.8125\n",
      "Epoch 36/50\n",
      "256/256 [==============================] - 50s 195ms/step - loss: 0.1076 - accuracy: 0.9615 - val_loss: 0.5724 - val_accuracy: 0.7500\n",
      "Epoch 37/50\n",
      "256/256 [==============================] - 51s 198ms/step - loss: 0.1155 - accuracy: 0.9622 - val_loss: 0.3453 - val_accuracy: 0.8125\n",
      "Epoch 38/50\n",
      "256/256 [==============================] - 50s 196ms/step - loss: 0.1102 - accuracy: 0.9615 - val_loss: 0.2347 - val_accuracy: 0.8750\n",
      "Epoch 39/50\n",
      "256/256 [==============================] - 51s 198ms/step - loss: 0.1079 - accuracy: 0.9643 - val_loss: 0.3147 - val_accuracy: 0.8750\n",
      "Epoch 40/50\n",
      "256/256 [==============================] - 50s 197ms/step - loss: 0.1110 - accuracy: 0.9646 - val_loss: 0.3583 - val_accuracy: 0.8125\n",
      "Epoch 41/50\n",
      "256/256 [==============================] - 50s 196ms/step - loss: 0.0956 - accuracy: 0.9629 - val_loss: 0.2589 - val_accuracy: 0.8125\n",
      "Epoch 42/50\n",
      "256/256 [==============================] - 50s 197ms/step - loss: 0.1167 - accuracy: 0.9585 - val_loss: 0.3084 - val_accuracy: 0.8750\n"
     ]
    },
    {
     "name": "stdout",
     "output_type": "stream",
     "text": [
      "Epoch 43/50\n",
      "256/256 [==============================] - 50s 197ms/step - loss: 0.1120 - accuracy: 0.9617 - val_loss: 0.4005 - val_accuracy: 0.8750\n",
      "Epoch 44/50\n",
      "256/256 [==============================] - 50s 197ms/step - loss: 0.1046 - accuracy: 0.9590 - val_loss: 0.3525 - val_accuracy: 0.8125\n",
      "Epoch 45/50\n",
      "256/256 [==============================] - 50s 196ms/step - loss: 0.1072 - accuracy: 0.9619 - val_loss: 0.2685 - val_accuracy: 0.9375\n",
      "Epoch 46/50\n",
      "256/256 [==============================] - 51s 197ms/step - loss: 0.1021 - accuracy: 0.9672 - val_loss: 0.6387 - val_accuracy: 0.7500\n",
      "Epoch 47/50\n",
      "256/256 [==============================] - 50s 197ms/step - loss: 0.0879 - accuracy: 0.9684 - val_loss: 0.4591 - val_accuracy: 0.8125\n",
      "Epoch 48/50\n",
      "256/256 [==============================] - 50s 197ms/step - loss: 0.1032 - accuracy: 0.9617 - val_loss: 0.3420 - val_accuracy: 0.7500\n",
      "Epoch 49/50\n",
      "256/256 [==============================] - 50s 196ms/step - loss: 0.1099 - accuracy: 0.9633 - val_loss: 0.5984 - val_accuracy: 0.6875\n",
      "Epoch 50/50\n",
      "256/256 [==============================] - 51s 197ms/step - loss: 0.0857 - accuracy: 0.9688 - val_loss: 0.4006 - val_accuracy: 0.8125\n"
     ]
    }
   ],
   "source": [
    "epoch_param = 50\n",
    "print(\"[INFO] compiling model...\")\n",
    "\n",
    "model = tf.keras.Sequential([\n",
    "    tf.keras.layers.Conv2D(input_shape=(64, 64, 3), kernel_size=(3,3), filters=32, activation='relu', padding='same'),\n",
    "    tf.keras.layers.MaxPool2D(strides=(2,2)),\n",
    "    tf.keras.layers.Dropout(rate=0.2),\n",
    "    tf.keras.layers.Conv2D(kernel_size=(3,3), filters=64, activation='relu', padding='same'),\n",
    "    tf.keras.layers.MaxPool2D(strides=(2,2)),\n",
    "    tf.keras.layers.Dropout(rate=0.2),\n",
    "    tf.keras.layers.Conv2D(kernel_size=(3,3), filters=128, activation='relu', padding='same'),\n",
    "    tf.keras.layers.Flatten(),\n",
    "    tf.keras.layers.Dense(units=128, activation='relu'),\n",
    "    tf.keras.layers.Dropout(rate=0.5),\n",
    "    tf.keras.layers.Dense(units=64, activation='relu'),\n",
    "    tf.keras.layers.Dropout(rate=0.5),\n",
    "    tf.keras.layers.Dense(units=2, activation='softmax')\n",
    "])\n",
    "model.compile(loss='categorical_crossentropy', optimizer='adam', metrics=['accuracy'])\n",
    "model.summary()\n",
    "history = model.fit(train_generator, steps_per_epoch=(traincnt//batchsz), validation_data=(val_generator),epochs=epoch_param)"
   ]
  },
  {
   "cell_type": "code",
   "execution_count": 6,
   "metadata": {},
   "outputs": [
    {
     "data": {
      "text/plain": [
       "[0.5223275423049927, 0.9102563858032227]"
      ]
     },
     "execution_count": 6,
     "metadata": {},
     "output_type": "execute_result"
    }
   ],
   "source": [
    "model.save('classification_pneumnia_model_add_val.h5')\n",
    "\n",
    "model.evaluate(test_generator, verbose=0)"
   ]
  },
  {
   "cell_type": "code",
   "execution_count": null,
   "metadata": {},
   "outputs": [],
   "source": []
  }
 ],
 "metadata": {
  "kernelspec": {
   "display_name": "Python 3",
   "language": "python",
   "name": "python3"
  },
  "language_info": {
   "codemirror_mode": {
    "name": "ipython",
    "version": 3
   },
   "file_extension": ".py",
   "mimetype": "text/x-python",
   "name": "python",
   "nbconvert_exporter": "python",
   "pygments_lexer": "ipython3",
   "version": "3.8.5"
  }
 },
 "nbformat": 4,
 "nbformat_minor": 4
}
